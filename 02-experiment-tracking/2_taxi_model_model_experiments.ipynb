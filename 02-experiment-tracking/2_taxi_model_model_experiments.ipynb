{
 "cells": [
  {
   "attachments": {},
   "cell_type": "markdown",
   "metadata": {},
   "source": [
    "#### Take a look at model registry and decide which model should be promoted to staging"
   ]
  },
  {
   "cell_type": "code",
   "execution_count": 1,
   "metadata": {},
   "outputs": [],
   "source": [
    "from mlflow.tracking import MlflowClient\n",
    "\n",
    "MLFLOW_TRACKING_URI = \"sqlite:///mlflow.db\"\n",
    "\n",
    "client = MlflowClient(tracking_uri=MLFLOW_TRACKING_URI)"
   ]
  },
  {
   "cell_type": "code",
   "execution_count": 3,
   "metadata": {},
   "outputs": [
    {
     "data": {
      "text/plain": [
       "[<Experiment: artifact_location='/Users/tdafonseca/Desktop/Github/learning/deploy_machine_learning_model/02-experiment-tracking/mlruns/4', creation_time=1686331524486, experiment_id='4', last_update_time=1686331524486, lifecycle_stage='active', name='my-experiment-2', tags={}>,\n",
       " <Experiment: artifact_location='/Users/tdafonseca/Desktop/Github/learning/deploy_machine_learning_model/02-experiment-tracking/mlruns/2', creation_time=1686172186899, experiment_id='2', last_update_time=1686172186899, lifecycle_stage='active', name='nyc-taxi-experiment', tags={}>]"
      ]
     },
     "execution_count": 3,
     "metadata": {},
     "output_type": "execute_result"
    }
   ],
   "source": [
    "client.search_experiments()"
   ]
  },
  {
   "cell_type": "code",
   "execution_count": 2,
   "metadata": {},
   "outputs": [
    {
     "ename": "MlflowException",
     "evalue": "Experiment(name=my-experiment-2) already exists. Error: (raised as a result of Query-invoked autoflush; consider using a session.no_autoflush block if this flush is occurring prematurely)\n(sqlite3.IntegrityError) UNIQUE constraint failed: experiments.name\n[SQL: INSERT INTO experiments (name, artifact_location, lifecycle_stage, creation_time, last_update_time) VALUES (?, ?, ?, ?, ?)]\n[parameters: ('my-experiment-2', None, 'active', 1686586738175, 1686586738175)]\n(Background on this error at: https://sqlalche.me/e/20/gkpj)",
     "output_type": "error",
     "traceback": [
      "\u001b[0;31m---------------------------------------------------------------------------\u001b[0m",
      "\u001b[0;31mIntegrityError\u001b[0m                            Traceback (most recent call last)",
      "File \u001b[0;32m~/Desktop/Github/learning/deploy_machine_learning_model/.venv/lib/python3.9/site-packages/sqlalchemy/engine/base.py:1968\u001b[0m, in \u001b[0;36mConnection._exec_single_context\u001b[0;34m(self, dialect, context, statement, parameters)\u001b[0m\n\u001b[1;32m   1967\u001b[0m     \u001b[39mif\u001b[39;00m \u001b[39mnot\u001b[39;00m evt_handled:\n\u001b[0;32m-> 1968\u001b[0m         \u001b[39mself\u001b[39;49m\u001b[39m.\u001b[39;49mdialect\u001b[39m.\u001b[39;49mdo_execute(\n\u001b[1;32m   1969\u001b[0m             cursor, str_statement, effective_parameters, context\n\u001b[1;32m   1970\u001b[0m         )\n\u001b[1;32m   1972\u001b[0m \u001b[39mif\u001b[39;00m \u001b[39mself\u001b[39m\u001b[39m.\u001b[39m_has_events \u001b[39mor\u001b[39;00m \u001b[39mself\u001b[39m\u001b[39m.\u001b[39mengine\u001b[39m.\u001b[39m_has_events:\n",
      "File \u001b[0;32m~/Desktop/Github/learning/deploy_machine_learning_model/.venv/lib/python3.9/site-packages/sqlalchemy/engine/default.py:920\u001b[0m, in \u001b[0;36mDefaultDialect.do_execute\u001b[0;34m(self, cursor, statement, parameters, context)\u001b[0m\n\u001b[1;32m    919\u001b[0m \u001b[39mdef\u001b[39;00m \u001b[39mdo_execute\u001b[39m(\u001b[39mself\u001b[39m, cursor, statement, parameters, context\u001b[39m=\u001b[39m\u001b[39mNone\u001b[39;00m):\n\u001b[0;32m--> 920\u001b[0m     cursor\u001b[39m.\u001b[39;49mexecute(statement, parameters)\n",
      "\u001b[0;31mIntegrityError\u001b[0m: UNIQUE constraint failed: experiments.name",
      "\nThe above exception was the direct cause of the following exception:\n",
      "\u001b[0;31mIntegrityError\u001b[0m                            Traceback (most recent call last)",
      "File \u001b[0;32m~/Desktop/Github/learning/deploy_machine_learning_model/.venv/lib/python3.9/site-packages/mlflow/store/tracking/sqlalchemy_store.py:256\u001b[0m, in \u001b[0;36mSqlAlchemyStore.create_experiment\u001b[0;34m(self, name, artifact_location, tags)\u001b[0m\n\u001b[1;32m    254\u001b[0m \u001b[39mif\u001b[39;00m \u001b[39mnot\u001b[39;00m artifact_location:\n\u001b[1;32m    255\u001b[0m     \u001b[39m# this requires a double write. The first one to generate an autoincrement-ed ID\u001b[39;00m\n\u001b[0;32m--> 256\u001b[0m     eid \u001b[39m=\u001b[39m session\u001b[39m.\u001b[39;49mquery(SqlExperiment)\u001b[39m.\u001b[39;49mfilter_by(name\u001b[39m=\u001b[39;49mname)\u001b[39m.\u001b[39;49mfirst()\u001b[39m.\u001b[39mexperiment_id\n\u001b[1;32m    257\u001b[0m     experiment\u001b[39m.\u001b[39martifact_location \u001b[39m=\u001b[39m \u001b[39mself\u001b[39m\u001b[39m.\u001b[39m_get_artifact_location(eid)\n",
      "File \u001b[0;32m~/Desktop/Github/learning/deploy_machine_learning_model/.venv/lib/python3.9/site-packages/sqlalchemy/orm/query.py:2747\u001b[0m, in \u001b[0;36mQuery.first\u001b[0;34m(self)\u001b[0m\n\u001b[1;32m   2746\u001b[0m \u001b[39melse\u001b[39;00m:\n\u001b[0;32m-> 2747\u001b[0m     \u001b[39mreturn\u001b[39;00m \u001b[39mself\u001b[39;49m\u001b[39m.\u001b[39;49mlimit(\u001b[39m1\u001b[39;49m)\u001b[39m.\u001b[39;49m_iter()\u001b[39m.\u001b[39mfirst()\n",
      "File \u001b[0;32m~/Desktop/Github/learning/deploy_machine_learning_model/.venv/lib/python3.9/site-packages/sqlalchemy/orm/query.py:2846\u001b[0m, in \u001b[0;36mQuery._iter\u001b[0;34m(self)\u001b[0m\n\u001b[1;32m   2845\u001b[0m statement \u001b[39m=\u001b[39m \u001b[39mself\u001b[39m\u001b[39m.\u001b[39m_statement_20()\n\u001b[0;32m-> 2846\u001b[0m result: Union[ScalarResult[_T], Result[_T]] \u001b[39m=\u001b[39m \u001b[39mself\u001b[39;49m\u001b[39m.\u001b[39;49msession\u001b[39m.\u001b[39;49mexecute(\n\u001b[1;32m   2847\u001b[0m     statement,\n\u001b[1;32m   2848\u001b[0m     params,\n\u001b[1;32m   2849\u001b[0m     execution_options\u001b[39m=\u001b[39;49m{\u001b[39m\"\u001b[39;49m\u001b[39m_sa_orm_load_options\u001b[39;49m\u001b[39m\"\u001b[39;49m: \u001b[39mself\u001b[39;49m\u001b[39m.\u001b[39;49mload_options},\n\u001b[1;32m   2850\u001b[0m )\n\u001b[1;32m   2852\u001b[0m \u001b[39m# legacy: automatically set scalars, unique\u001b[39;00m\n",
      "File \u001b[0;32m~/Desktop/Github/learning/deploy_machine_learning_model/.venv/lib/python3.9/site-packages/sqlalchemy/orm/session.py:2232\u001b[0m, in \u001b[0;36mSession.execute\u001b[0;34m(self, statement, params, execution_options, bind_arguments, _parent_execute_state, _add_event)\u001b[0m\n\u001b[1;32m   2181\u001b[0m \u001b[39m\u001b[39m\u001b[39mr\u001b[39m\u001b[39m\"\"\"Execute a SQL expression construct.\u001b[39;00m\n\u001b[1;32m   2182\u001b[0m \n\u001b[1;32m   2183\u001b[0m \u001b[39mReturns a :class:`_engine.Result` object representing\u001b[39;00m\n\u001b[0;32m   (...)\u001b[0m\n\u001b[1;32m   2230\u001b[0m \n\u001b[1;32m   2231\u001b[0m \u001b[39m\"\"\"\u001b[39;00m\n\u001b[0;32m-> 2232\u001b[0m \u001b[39mreturn\u001b[39;00m \u001b[39mself\u001b[39;49m\u001b[39m.\u001b[39;49m_execute_internal(\n\u001b[1;32m   2233\u001b[0m     statement,\n\u001b[1;32m   2234\u001b[0m     params,\n\u001b[1;32m   2235\u001b[0m     execution_options\u001b[39m=\u001b[39;49mexecution_options,\n\u001b[1;32m   2236\u001b[0m     bind_arguments\u001b[39m=\u001b[39;49mbind_arguments,\n\u001b[1;32m   2237\u001b[0m     _parent_execute_state\u001b[39m=\u001b[39;49m_parent_execute_state,\n\u001b[1;32m   2238\u001b[0m     _add_event\u001b[39m=\u001b[39;49m_add_event,\n\u001b[1;32m   2239\u001b[0m )\n",
      "File \u001b[0;32m~/Desktop/Github/learning/deploy_machine_learning_model/.venv/lib/python3.9/site-packages/sqlalchemy/orm/session.py:2106\u001b[0m, in \u001b[0;36mSession._execute_internal\u001b[0;34m(self, statement, params, execution_options, bind_arguments, _parent_execute_state, _add_event, _scalar_result)\u001b[0m\n\u001b[1;32m   2097\u001b[0m \u001b[39mif\u001b[39;00m compile_state_cls \u001b[39mis\u001b[39;00m \u001b[39mnot\u001b[39;00m \u001b[39mNone\u001b[39;00m:\n\u001b[1;32m   2098\u001b[0m     \u001b[39m# now run orm_pre_session_exec() \"for real\".   if there were\u001b[39;00m\n\u001b[1;32m   2099\u001b[0m     \u001b[39m# event hooks, this will re-run the steps that interpret\u001b[39;00m\n\u001b[1;32m   2100\u001b[0m     \u001b[39m# new execution_options into load_options / update_delete_options,\u001b[39;00m\n\u001b[1;32m   2101\u001b[0m     \u001b[39m# which we assume the event hook might have updated.\u001b[39;00m\n\u001b[1;32m   2102\u001b[0m     \u001b[39m# autoflush will also be invoked in this step if enabled.\u001b[39;00m\n\u001b[1;32m   2103\u001b[0m     (\n\u001b[1;32m   2104\u001b[0m         statement,\n\u001b[1;32m   2105\u001b[0m         execution_options,\n\u001b[0;32m-> 2106\u001b[0m     ) \u001b[39m=\u001b[39m compile_state_cls\u001b[39m.\u001b[39;49morm_pre_session_exec(\n\u001b[1;32m   2107\u001b[0m         \u001b[39mself\u001b[39;49m,\n\u001b[1;32m   2108\u001b[0m         statement,\n\u001b[1;32m   2109\u001b[0m         params,\n\u001b[1;32m   2110\u001b[0m         execution_options,\n\u001b[1;32m   2111\u001b[0m         bind_arguments,\n\u001b[1;32m   2112\u001b[0m         \u001b[39mFalse\u001b[39;49;00m,\n\u001b[1;32m   2113\u001b[0m     )\n\u001b[1;32m   2115\u001b[0m bind \u001b[39m=\u001b[39m \u001b[39mself\u001b[39m\u001b[39m.\u001b[39mget_bind(\u001b[39m*\u001b[39m\u001b[39m*\u001b[39mbind_arguments)\n",
      "File \u001b[0;32m~/Desktop/Github/learning/deploy_machine_learning_model/.venv/lib/python3.9/site-packages/sqlalchemy/orm/context.py:546\u001b[0m, in \u001b[0;36mORMCompileState.orm_pre_session_exec\u001b[0;34m(cls, session, statement, params, execution_options, bind_arguments, is_pre_event)\u001b[0m\n\u001b[1;32m    545\u001b[0m \u001b[39mif\u001b[39;00m \u001b[39mnot\u001b[39;00m is_pre_event \u001b[39mand\u001b[39;00m load_options\u001b[39m.\u001b[39m_autoflush:\n\u001b[0;32m--> 546\u001b[0m     session\u001b[39m.\u001b[39;49m_autoflush()\n\u001b[1;32m    548\u001b[0m \u001b[39mreturn\u001b[39;00m statement, execution_options\n",
      "File \u001b[0;32m~/Desktop/Github/learning/deploy_machine_learning_model/.venv/lib/python3.9/site-packages/sqlalchemy/orm/session.py:2909\u001b[0m, in \u001b[0;36mSession._autoflush\u001b[0;34m(self)\u001b[0m\n\u001b[1;32m   2904\u001b[0m e\u001b[39m.\u001b[39madd_detail(\n\u001b[1;32m   2905\u001b[0m     \u001b[39m\"\u001b[39m\u001b[39mraised as a result of Query-invoked autoflush; \u001b[39m\u001b[39m\"\u001b[39m\n\u001b[1;32m   2906\u001b[0m     \u001b[39m\"\u001b[39m\u001b[39mconsider using a session.no_autoflush block if this \u001b[39m\u001b[39m\"\u001b[39m\n\u001b[1;32m   2907\u001b[0m     \u001b[39m\"\u001b[39m\u001b[39mflush is occurring prematurely\u001b[39m\u001b[39m\"\u001b[39m\n\u001b[1;32m   2908\u001b[0m )\n\u001b[0;32m-> 2909\u001b[0m \u001b[39mraise\u001b[39;00m e\u001b[39m.\u001b[39mwith_traceback(sys\u001b[39m.\u001b[39mexc_info()[\u001b[39m2\u001b[39m])\n",
      "File \u001b[0;32m~/Desktop/Github/learning/deploy_machine_learning_model/.venv/lib/python3.9/site-packages/sqlalchemy/orm/session.py:2898\u001b[0m, in \u001b[0;36mSession._autoflush\u001b[0;34m(self)\u001b[0m\n\u001b[1;32m   2897\u001b[0m \u001b[39mtry\u001b[39;00m:\n\u001b[0;32m-> 2898\u001b[0m     \u001b[39mself\u001b[39;49m\u001b[39m.\u001b[39;49mflush()\n\u001b[1;32m   2899\u001b[0m \u001b[39mexcept\u001b[39;00m sa_exc\u001b[39m.\u001b[39mStatementError \u001b[39mas\u001b[39;00m e:\n\u001b[1;32m   2900\u001b[0m     \u001b[39m# note we are reraising StatementError as opposed to\u001b[39;00m\n\u001b[1;32m   2901\u001b[0m     \u001b[39m# raising FlushError with \"chaining\" to remain compatible\u001b[39;00m\n\u001b[1;32m   2902\u001b[0m     \u001b[39m# with code that catches StatementError, IntegrityError,\u001b[39;00m\n\u001b[1;32m   2903\u001b[0m     \u001b[39m# etc.\u001b[39;00m\n",
      "File \u001b[0;32m~/Desktop/Github/learning/deploy_machine_learning_model/.venv/lib/python3.9/site-packages/sqlalchemy/orm/session.py:4154\u001b[0m, in \u001b[0;36mSession.flush\u001b[0;34m(self, objects)\u001b[0m\n\u001b[1;32m   4153\u001b[0m     \u001b[39mself\u001b[39m\u001b[39m.\u001b[39m_flushing \u001b[39m=\u001b[39m \u001b[39mTrue\u001b[39;00m\n\u001b[0;32m-> 4154\u001b[0m     \u001b[39mself\u001b[39;49m\u001b[39m.\u001b[39;49m_flush(objects)\n\u001b[1;32m   4155\u001b[0m \u001b[39mfinally\u001b[39;00m:\n",
      "File \u001b[0;32m~/Desktop/Github/learning/deploy_machine_learning_model/.venv/lib/python3.9/site-packages/sqlalchemy/orm/session.py:4291\u001b[0m, in \u001b[0;36mSession._flush\u001b[0;34m(self, objects)\u001b[0m\n\u001b[1;32m   4290\u001b[0m \u001b[39mwith\u001b[39;00m util\u001b[39m.\u001b[39msafe_reraise():\n\u001b[0;32m-> 4291\u001b[0m     transaction\u001b[39m.\u001b[39mrollback(_capture_exception\u001b[39m=\u001b[39m\u001b[39mTrue\u001b[39;00m)\n",
      "File \u001b[0;32m~/Desktop/Github/learning/deploy_machine_learning_model/.venv/lib/python3.9/site-packages/sqlalchemy/util/langhelpers.py:147\u001b[0m, in \u001b[0;36msafe_reraise.__exit__\u001b[0;34m(self, type_, value, traceback)\u001b[0m\n\u001b[1;32m    146\u001b[0m     \u001b[39mself\u001b[39m\u001b[39m.\u001b[39m_exc_info \u001b[39m=\u001b[39m \u001b[39mNone\u001b[39;00m  \u001b[39m# remove potential circular references\u001b[39;00m\n\u001b[0;32m--> 147\u001b[0m     \u001b[39mraise\u001b[39;00m exc_value\u001b[39m.\u001b[39mwith_traceback(exc_tb)\n\u001b[1;32m    148\u001b[0m \u001b[39melse\u001b[39;00m:\n",
      "File \u001b[0;32m~/Desktop/Github/learning/deploy_machine_learning_model/.venv/lib/python3.9/site-packages/sqlalchemy/orm/session.py:4251\u001b[0m, in \u001b[0;36mSession._flush\u001b[0;34m(self, objects)\u001b[0m\n\u001b[1;32m   4250\u001b[0m \u001b[39mtry\u001b[39;00m:\n\u001b[0;32m-> 4251\u001b[0m     flush_context\u001b[39m.\u001b[39;49mexecute()\n\u001b[1;32m   4252\u001b[0m \u001b[39mfinally\u001b[39;00m:\n",
      "File \u001b[0;32m~/Desktop/Github/learning/deploy_machine_learning_model/.venv/lib/python3.9/site-packages/sqlalchemy/orm/unitofwork.py:467\u001b[0m, in \u001b[0;36mUOWTransaction.execute\u001b[0;34m(self)\u001b[0m\n\u001b[1;32m    466\u001b[0m \u001b[39mfor\u001b[39;00m rec \u001b[39min\u001b[39;00m topological\u001b[39m.\u001b[39msort(\u001b[39mself\u001b[39m\u001b[39m.\u001b[39mdependencies, postsort_actions):\n\u001b[0;32m--> 467\u001b[0m     rec\u001b[39m.\u001b[39;49mexecute(\u001b[39mself\u001b[39;49m)\n",
      "File \u001b[0;32m~/Desktop/Github/learning/deploy_machine_learning_model/.venv/lib/python3.9/site-packages/sqlalchemy/orm/unitofwork.py:644\u001b[0m, in \u001b[0;36mSaveUpdateAll.execute\u001b[0;34m(self, uow)\u001b[0m\n\u001b[1;32m    642\u001b[0m \u001b[39m@util\u001b[39m\u001b[39m.\u001b[39mpreload_module(\u001b[39m\"\u001b[39m\u001b[39msqlalchemy.orm.persistence\u001b[39m\u001b[39m\"\u001b[39m)\n\u001b[1;32m    643\u001b[0m \u001b[39mdef\u001b[39;00m \u001b[39mexecute\u001b[39m(\u001b[39mself\u001b[39m, uow):\n\u001b[0;32m--> 644\u001b[0m     util\u001b[39m.\u001b[39;49mpreloaded\u001b[39m.\u001b[39;49morm_persistence\u001b[39m.\u001b[39;49msave_obj(\n\u001b[1;32m    645\u001b[0m         \u001b[39mself\u001b[39;49m\u001b[39m.\u001b[39;49mmapper,\n\u001b[1;32m    646\u001b[0m         uow\u001b[39m.\u001b[39;49mstates_for_mapper_hierarchy(\u001b[39mself\u001b[39;49m\u001b[39m.\u001b[39;49mmapper, \u001b[39mFalse\u001b[39;49;00m, \u001b[39mFalse\u001b[39;49;00m),\n\u001b[1;32m    647\u001b[0m         uow,\n\u001b[1;32m    648\u001b[0m     )\n",
      "File \u001b[0;32m~/Desktop/Github/learning/deploy_machine_learning_model/.venv/lib/python3.9/site-packages/sqlalchemy/orm/persistence.py:93\u001b[0m, in \u001b[0;36msave_obj\u001b[0;34m(base_mapper, states, uowtransaction, single)\u001b[0m\n\u001b[1;32m     85\u001b[0m     _emit_update_statements(\n\u001b[1;32m     86\u001b[0m         base_mapper,\n\u001b[1;32m     87\u001b[0m         uowtransaction,\n\u001b[0;32m   (...)\u001b[0m\n\u001b[1;32m     90\u001b[0m         update,\n\u001b[1;32m     91\u001b[0m     )\n\u001b[0;32m---> 93\u001b[0m     _emit_insert_statements(\n\u001b[1;32m     94\u001b[0m         base_mapper,\n\u001b[1;32m     95\u001b[0m         uowtransaction,\n\u001b[1;32m     96\u001b[0m         mapper,\n\u001b[1;32m     97\u001b[0m         table,\n\u001b[1;32m     98\u001b[0m         insert,\n\u001b[1;32m     99\u001b[0m     )\n\u001b[1;32m    101\u001b[0m _finalize_insert_update_commands(\n\u001b[1;32m    102\u001b[0m     base_mapper,\n\u001b[1;32m    103\u001b[0m     uowtransaction,\n\u001b[0;32m   (...)\u001b[0m\n\u001b[1;32m    119\u001b[0m     ),\n\u001b[1;32m    120\u001b[0m )\n",
      "File \u001b[0;32m~/Desktop/Github/learning/deploy_machine_learning_model/.venv/lib/python3.9/site-packages/sqlalchemy/orm/persistence.py:1223\u001b[0m, in \u001b[0;36m_emit_insert_statements\u001b[0;34m(base_mapper, uowtransaction, mapper, table, insert, bookkeeping, use_orm_insert_stmt, execution_options)\u001b[0m\n\u001b[1;32m   1222\u001b[0m \u001b[39melse\u001b[39;00m:\n\u001b[0;32m-> 1223\u001b[0m     result \u001b[39m=\u001b[39m connection\u001b[39m.\u001b[39;49mexecute(\n\u001b[1;32m   1224\u001b[0m         statement,\n\u001b[1;32m   1225\u001b[0m         params,\n\u001b[1;32m   1226\u001b[0m         execution_options\u001b[39m=\u001b[39;49mexecution_options,\n\u001b[1;32m   1227\u001b[0m     )\n\u001b[1;32m   1229\u001b[0m primary_key \u001b[39m=\u001b[39m result\u001b[39m.\u001b[39minserted_primary_key\n",
      "File \u001b[0;32m~/Desktop/Github/learning/deploy_machine_learning_model/.venv/lib/python3.9/site-packages/sqlalchemy/engine/base.py:1413\u001b[0m, in \u001b[0;36mConnection.execute\u001b[0;34m(self, statement, parameters, execution_options)\u001b[0m\n\u001b[1;32m   1412\u001b[0m \u001b[39melse\u001b[39;00m:\n\u001b[0;32m-> 1413\u001b[0m     \u001b[39mreturn\u001b[39;00m meth(\n\u001b[1;32m   1414\u001b[0m         \u001b[39mself\u001b[39;49m,\n\u001b[1;32m   1415\u001b[0m         distilled_parameters,\n\u001b[1;32m   1416\u001b[0m         execution_options \u001b[39mor\u001b[39;49;00m NO_OPTIONS,\n\u001b[1;32m   1417\u001b[0m     )\n",
      "File \u001b[0;32m~/Desktop/Github/learning/deploy_machine_learning_model/.venv/lib/python3.9/site-packages/sqlalchemy/sql/elements.py:483\u001b[0m, in \u001b[0;36mClauseElement._execute_on_connection\u001b[0;34m(self, connection, distilled_params, execution_options)\u001b[0m\n\u001b[1;32m    482\u001b[0m         \u001b[39massert\u001b[39;00m \u001b[39misinstance\u001b[39m(\u001b[39mself\u001b[39m, Executable)\n\u001b[0;32m--> 483\u001b[0m     \u001b[39mreturn\u001b[39;00m connection\u001b[39m.\u001b[39;49m_execute_clauseelement(\n\u001b[1;32m    484\u001b[0m         \u001b[39mself\u001b[39;49m, distilled_params, execution_options\n\u001b[1;32m    485\u001b[0m     )\n\u001b[1;32m    486\u001b[0m \u001b[39melse\u001b[39;00m:\n",
      "File \u001b[0;32m~/Desktop/Github/learning/deploy_machine_learning_model/.venv/lib/python3.9/site-packages/sqlalchemy/engine/base.py:1637\u001b[0m, in \u001b[0;36mConnection._execute_clauseelement\u001b[0;34m(self, elem, distilled_parameters, execution_options)\u001b[0m\n\u001b[1;32m   1629\u001b[0m compiled_sql, extracted_params, cache_hit \u001b[39m=\u001b[39m elem\u001b[39m.\u001b[39m_compile_w_cache(\n\u001b[1;32m   1630\u001b[0m     dialect\u001b[39m=\u001b[39mdialect,\n\u001b[1;32m   1631\u001b[0m     compiled_cache\u001b[39m=\u001b[39mcompiled_cache,\n\u001b[0;32m   (...)\u001b[0m\n\u001b[1;32m   1635\u001b[0m     linting\u001b[39m=\u001b[39m\u001b[39mself\u001b[39m\u001b[39m.\u001b[39mdialect\u001b[39m.\u001b[39mcompiler_linting \u001b[39m|\u001b[39m compiler\u001b[39m.\u001b[39mWARN_LINTING,\n\u001b[1;32m   1636\u001b[0m )\n\u001b[0;32m-> 1637\u001b[0m ret \u001b[39m=\u001b[39m \u001b[39mself\u001b[39;49m\u001b[39m.\u001b[39;49m_execute_context(\n\u001b[1;32m   1638\u001b[0m     dialect,\n\u001b[1;32m   1639\u001b[0m     dialect\u001b[39m.\u001b[39;49mexecution_ctx_cls\u001b[39m.\u001b[39;49m_init_compiled,\n\u001b[1;32m   1640\u001b[0m     compiled_sql,\n\u001b[1;32m   1641\u001b[0m     distilled_parameters,\n\u001b[1;32m   1642\u001b[0m     execution_options,\n\u001b[1;32m   1643\u001b[0m     compiled_sql,\n\u001b[1;32m   1644\u001b[0m     distilled_parameters,\n\u001b[1;32m   1645\u001b[0m     elem,\n\u001b[1;32m   1646\u001b[0m     extracted_params,\n\u001b[1;32m   1647\u001b[0m     cache_hit\u001b[39m=\u001b[39;49mcache_hit,\n\u001b[1;32m   1648\u001b[0m )\n\u001b[1;32m   1649\u001b[0m \u001b[39mif\u001b[39;00m has_events:\n",
      "File \u001b[0;32m~/Desktop/Github/learning/deploy_machine_learning_model/.venv/lib/python3.9/site-packages/sqlalchemy/engine/base.py:1846\u001b[0m, in \u001b[0;36mConnection._execute_context\u001b[0;34m(self, dialect, constructor, statement, parameters, execution_options, *args, **kw)\u001b[0m\n\u001b[1;32m   1845\u001b[0m \u001b[39melse\u001b[39;00m:\n\u001b[0;32m-> 1846\u001b[0m     \u001b[39mreturn\u001b[39;00m \u001b[39mself\u001b[39;49m\u001b[39m.\u001b[39;49m_exec_single_context(\n\u001b[1;32m   1847\u001b[0m         dialect, context, statement, parameters\n\u001b[1;32m   1848\u001b[0m     )\n",
      "File \u001b[0;32m~/Desktop/Github/learning/deploy_machine_learning_model/.venv/lib/python3.9/site-packages/sqlalchemy/engine/base.py:1987\u001b[0m, in \u001b[0;36mConnection._exec_single_context\u001b[0;34m(self, dialect, context, statement, parameters)\u001b[0m\n\u001b[1;32m   1986\u001b[0m \u001b[39mexcept\u001b[39;00m \u001b[39mBaseException\u001b[39;00m \u001b[39mas\u001b[39;00m e:\n\u001b[0;32m-> 1987\u001b[0m     \u001b[39mself\u001b[39;49m\u001b[39m.\u001b[39;49m_handle_dbapi_exception(\n\u001b[1;32m   1988\u001b[0m         e, str_statement, effective_parameters, cursor, context\n\u001b[1;32m   1989\u001b[0m     )\n\u001b[1;32m   1991\u001b[0m \u001b[39mreturn\u001b[39;00m result\n",
      "File \u001b[0;32m~/Desktop/Github/learning/deploy_machine_learning_model/.venv/lib/python3.9/site-packages/sqlalchemy/engine/base.py:2344\u001b[0m, in \u001b[0;36mConnection._handle_dbapi_exception\u001b[0;34m(self, e, statement, parameters, cursor, context, is_sub_exec)\u001b[0m\n\u001b[1;32m   2343\u001b[0m     \u001b[39massert\u001b[39;00m sqlalchemy_exception \u001b[39mis\u001b[39;00m \u001b[39mnot\u001b[39;00m \u001b[39mNone\u001b[39;00m\n\u001b[0;32m-> 2344\u001b[0m     \u001b[39mraise\u001b[39;00m sqlalchemy_exception\u001b[39m.\u001b[39mwith_traceback(exc_info[\u001b[39m2\u001b[39m]) \u001b[39mfrom\u001b[39;00m \u001b[39me\u001b[39;00m\n\u001b[1;32m   2345\u001b[0m \u001b[39melse\u001b[39;00m:\n",
      "File \u001b[0;32m~/Desktop/Github/learning/deploy_machine_learning_model/.venv/lib/python3.9/site-packages/sqlalchemy/engine/base.py:1968\u001b[0m, in \u001b[0;36mConnection._exec_single_context\u001b[0;34m(self, dialect, context, statement, parameters)\u001b[0m\n\u001b[1;32m   1967\u001b[0m     \u001b[39mif\u001b[39;00m \u001b[39mnot\u001b[39;00m evt_handled:\n\u001b[0;32m-> 1968\u001b[0m         \u001b[39mself\u001b[39;49m\u001b[39m.\u001b[39;49mdialect\u001b[39m.\u001b[39;49mdo_execute(\n\u001b[1;32m   1969\u001b[0m             cursor, str_statement, effective_parameters, context\n\u001b[1;32m   1970\u001b[0m         )\n\u001b[1;32m   1972\u001b[0m \u001b[39mif\u001b[39;00m \u001b[39mself\u001b[39m\u001b[39m.\u001b[39m_has_events \u001b[39mor\u001b[39;00m \u001b[39mself\u001b[39m\u001b[39m.\u001b[39mengine\u001b[39m.\u001b[39m_has_events:\n",
      "File \u001b[0;32m~/Desktop/Github/learning/deploy_machine_learning_model/.venv/lib/python3.9/site-packages/sqlalchemy/engine/default.py:920\u001b[0m, in \u001b[0;36mDefaultDialect.do_execute\u001b[0;34m(self, cursor, statement, parameters, context)\u001b[0m\n\u001b[1;32m    919\u001b[0m \u001b[39mdef\u001b[39;00m \u001b[39mdo_execute\u001b[39m(\u001b[39mself\u001b[39m, cursor, statement, parameters, context\u001b[39m=\u001b[39m\u001b[39mNone\u001b[39;00m):\n\u001b[0;32m--> 920\u001b[0m     cursor\u001b[39m.\u001b[39;49mexecute(statement, parameters)\n",
      "\u001b[0;31mIntegrityError\u001b[0m: (raised as a result of Query-invoked autoflush; consider using a session.no_autoflush block if this flush is occurring prematurely)\n(sqlite3.IntegrityError) UNIQUE constraint failed: experiments.name\n[SQL: INSERT INTO experiments (name, artifact_location, lifecycle_stage, creation_time, last_update_time) VALUES (?, ?, ?, ?, ?)]\n[parameters: ('my-experiment-2', None, 'active', 1686586738175, 1686586738175)]\n(Background on this error at: https://sqlalche.me/e/20/gkpj)",
      "\nDuring handling of the above exception, another exception occurred:\n",
      "\u001b[0;31mMlflowException\u001b[0m                           Traceback (most recent call last)",
      "Cell \u001b[0;32mIn[2], line 1\u001b[0m\n\u001b[0;32m----> 1\u001b[0m client\u001b[39m.\u001b[39;49mcreate_experiment(name\u001b[39m=\u001b[39;49m\u001b[39m'\u001b[39;49m\u001b[39mmy-experiment-2\u001b[39;49m\u001b[39m'\u001b[39;49m)\n",
      "File \u001b[0;32m~/Desktop/Github/learning/deploy_machine_learning_model/.venv/lib/python3.9/site-packages/mlflow/tracking/client.py:511\u001b[0m, in \u001b[0;36mMlflowClient.create_experiment\u001b[0;34m(self, name, artifact_location, tags)\u001b[0m\n\u001b[1;32m    463\u001b[0m \u001b[39mdef\u001b[39;00m \u001b[39mcreate_experiment\u001b[39m(\n\u001b[1;32m    464\u001b[0m     \u001b[39mself\u001b[39m,\n\u001b[1;32m    465\u001b[0m     name: \u001b[39mstr\u001b[39m,\n\u001b[1;32m    466\u001b[0m     artifact_location: Optional[\u001b[39mstr\u001b[39m] \u001b[39m=\u001b[39m \u001b[39mNone\u001b[39;00m,\n\u001b[1;32m    467\u001b[0m     tags: Optional[Dict[\u001b[39mstr\u001b[39m, Any]] \u001b[39m=\u001b[39m \u001b[39mNone\u001b[39;00m,\n\u001b[1;32m    468\u001b[0m ) \u001b[39m-\u001b[39m\u001b[39m>\u001b[39m \u001b[39mstr\u001b[39m:\n\u001b[1;32m    469\u001b[0m \u001b[39m    \u001b[39m\u001b[39m\"\"\"Create an experiment.\u001b[39;00m\n\u001b[1;32m    470\u001b[0m \n\u001b[1;32m    471\u001b[0m \u001b[39m    :param name: The experiment name. Must be unique.\u001b[39;00m\n\u001b[0;32m   (...)\u001b[0m\n\u001b[1;32m    509\u001b[0m \u001b[39m        Lifecycle_stage: active\u001b[39;00m\n\u001b[1;32m    510\u001b[0m \u001b[39m    \"\"\"\u001b[39;00m\n\u001b[0;32m--> 511\u001b[0m     \u001b[39mreturn\u001b[39;00m \u001b[39mself\u001b[39;49m\u001b[39m.\u001b[39;49m_tracking_client\u001b[39m.\u001b[39;49mcreate_experiment(name, artifact_location, tags)\n",
      "File \u001b[0;32m~/Desktop/Github/learning/deploy_machine_learning_model/.venv/lib/python3.9/site-packages/mlflow/tracking/_tracking_service/client.py:234\u001b[0m, in \u001b[0;36mTrackingServiceClient.create_experiment\u001b[0;34m(self, name, artifact_location, tags)\u001b[0m\n\u001b[1;32m    223\u001b[0m \u001b[39m\u001b[39m\u001b[39m\"\"\"Create an experiment.\u001b[39;00m\n\u001b[1;32m    224\u001b[0m \n\u001b[1;32m    225\u001b[0m \u001b[39m:param name: The experiment name. Must be unique.\u001b[39;00m\n\u001b[0;32m   (...)\u001b[0m\n\u001b[1;32m    230\u001b[0m \u001b[39m:return: Integer ID of the created experiment.\u001b[39;00m\n\u001b[1;32m    231\u001b[0m \u001b[39m\"\"\"\u001b[39;00m\n\u001b[1;32m    232\u001b[0m _validate_experiment_artifact_location(artifact_location)\n\u001b[0;32m--> 234\u001b[0m \u001b[39mreturn\u001b[39;00m \u001b[39mself\u001b[39;49m\u001b[39m.\u001b[39;49mstore\u001b[39m.\u001b[39;49mcreate_experiment(\n\u001b[1;32m    235\u001b[0m     name\u001b[39m=\u001b[39;49mname,\n\u001b[1;32m    236\u001b[0m     artifact_location\u001b[39m=\u001b[39;49martifact_location,\n\u001b[1;32m    237\u001b[0m     tags\u001b[39m=\u001b[39;49m[ExperimentTag(key, value) \u001b[39mfor\u001b[39;49;00m (key, value) \u001b[39min\u001b[39;49;00m tags\u001b[39m.\u001b[39;49mitems()] \u001b[39mif\u001b[39;49;00m tags \u001b[39melse\u001b[39;49;00m [],\n\u001b[1;32m    238\u001b[0m )\n",
      "File \u001b[0;32m~/Desktop/Github/learning/deploy_machine_learning_model/.venv/lib/python3.9/site-packages/mlflow/store/tracking/sqlalchemy_store.py:259\u001b[0m, in \u001b[0;36mSqlAlchemyStore.create_experiment\u001b[0;34m(self, name, artifact_location, tags)\u001b[0m\n\u001b[1;32m    257\u001b[0m         experiment\u001b[39m.\u001b[39martifact_location \u001b[39m=\u001b[39m \u001b[39mself\u001b[39m\u001b[39m.\u001b[39m_get_artifact_location(eid)\n\u001b[1;32m    258\u001b[0m \u001b[39mexcept\u001b[39;00m sqlalchemy\u001b[39m.\u001b[39mexc\u001b[39m.\u001b[39mIntegrityError \u001b[39mas\u001b[39;00m e:\n\u001b[0;32m--> 259\u001b[0m     \u001b[39mraise\u001b[39;00m MlflowException(\n\u001b[1;32m    260\u001b[0m         \u001b[39m\"\u001b[39m\u001b[39mExperiment(name=\u001b[39m\u001b[39m{}\u001b[39;00m\u001b[39m) already exists. Error: \u001b[39m\u001b[39m{}\u001b[39;00m\u001b[39m\"\u001b[39m\u001b[39m.\u001b[39mformat(name, \u001b[39mstr\u001b[39m(e)),\n\u001b[1;32m    261\u001b[0m         RESOURCE_ALREADY_EXISTS,\n\u001b[1;32m    262\u001b[0m     )\n\u001b[1;32m    264\u001b[0m session\u001b[39m.\u001b[39mflush()\n\u001b[1;32m    265\u001b[0m \u001b[39mreturn\u001b[39;00m \u001b[39mstr\u001b[39m(experiment\u001b[39m.\u001b[39mexperiment_id)\n",
      "\u001b[0;31mMlflowException\u001b[0m: Experiment(name=my-experiment-2) already exists. Error: (raised as a result of Query-invoked autoflush; consider using a session.no_autoflush block if this flush is occurring prematurely)\n(sqlite3.IntegrityError) UNIQUE constraint failed: experiments.name\n[SQL: INSERT INTO experiments (name, artifact_location, lifecycle_stage, creation_time, last_update_time) VALUES (?, ?, ?, ?, ?)]\n[parameters: ('my-experiment-2', None, 'active', 1686586738175, 1686586738175)]\n(Background on this error at: https://sqlalche.me/e/20/gkpj)"
     ]
    }
   ],
   "source": [
    "client.create_experiment(name='my-experiment-2')"
   ]
  },
  {
   "attachments": {},
   "cell_type": "markdown",
   "metadata": {},
   "source": [
    "### For a given experiment understand the best models/runs\n"
   ]
  },
  {
   "cell_type": "code",
   "execution_count": 4,
   "metadata": {
    "scrolled": true
   },
   "outputs": [
    {
     "data": {
      "text/plain": [
       "[<Run: data=<RunData: metrics={'rmse': 5.110087914942558}, params={'learning_rate': '0.1186097146922628',\n",
       "  'max_depth': '10',\n",
       "  'min_child_weight': '1.2670591294263422',\n",
       "  'objective': 'reg:linear',\n",
       "  'reg_alpha': '0.2726478524166285',\n",
       "  'reg_lambda': '0.007451987452974171',\n",
       "  'seed': '42'}, tags={'mlflow.log-model.history': '[{\"run_id\": \"53e9be922bb74db4b39cd469c3a882f8\", '\n",
       "                              '\"artifact_path\": \"models_mlflow\", '\n",
       "                              '\"utc_time_created\": \"2023-06-08 '\n",
       "                              '21:54:07.420493\", \"flavors\": {\"python_function\": '\n",
       "                              '{\"loader_module\": \"mlflow.xgboost\", '\n",
       "                              '\"python_version\": \"3.9.16\", \"data\": \"model.xgb\", '\n",
       "                              '\"env\": {\"conda\": \"conda.yaml\", \"virtualenv\": '\n",
       "                              '\"python_env.yaml\"}}, \"xgboost\": {\"xgb_version\": '\n",
       "                              '\"1.7.5\", \"data\": \"model.xgb\", \"model_class\": '\n",
       "                              '\"xgboost.core.Booster\", \"model_format\": \"xgb\", '\n",
       "                              '\"code\": null}}, \"model_uuid\": '\n",
       "                              '\"53364b8f62164ba6b3be8157fc143f92\", '\n",
       "                              '\"mlflow_version\": \"2.3.2\"}]',\n",
       "  'mlflow.runName': 'inquisitive-shad-407',\n",
       "  'mlflow.source.git.commit': '1bd40efd14a4868739e36b97d11b77b5002c27a9',\n",
       "  'mlflow.source.name': '/Users/tdafonseca/Desktop/Github/learning/deploy_machine_learning_model/.venv/lib/python3.9/site-packages/ipykernel_launcher.py',\n",
       "  'mlflow.source.type': 'LOCAL',\n",
       "  'mlflow.user': 'tdafonseca'}>, info=<RunInfo: artifact_uri='/Users/tdafonseca/Desktop/Github/learning/deploy_machine_learning_model/02-experiment-tracking/mlruns/2/53e9be922bb74db4b39cd469c3a882f8/artifacts', end_time=1686261260300, experiment_id='2', lifecycle_stage='active', run_id='53e9be922bb74db4b39cd469c3a882f8', run_name='inquisitive-shad-407', run_uuid='53e9be922bb74db4b39cd469c3a882f8', start_time=1686261224001, status='FINISHED', user_id='tdafonseca'>>,\n",
       " <Run: data=<RunData: metrics={'rmse': 5.110087914942558}, params={'learning_rate': '0.1186097146922628',\n",
       "  'max_depth': '10',\n",
       "  'min_child_weight': '1.2670591294263422',\n",
       "  'objective': 'reg:linear',\n",
       "  'reg_alpha': '0.2726478524166285',\n",
       "  'reg_lambda': '0.007451987452974171',\n",
       "  'seed': '42'}, tags={'mlflow.log-model.history': '[{\"run_id\": \"426977b423c448afa04ccd63f1f850ac\", '\n",
       "                              '\"artifact_path\": \"models_mlflow\", '\n",
       "                              '\"utc_time_created\": \"2023-06-08 '\n",
       "                              '21:46:20.419393\", \"flavors\": {\"python_function\": '\n",
       "                              '{\"loader_module\": \"mlflow.xgboost\", '\n",
       "                              '\"python_version\": \"3.9.16\", \"data\": \"model.xgb\", '\n",
       "                              '\"env\": {\"conda\": \"conda.yaml\", \"virtualenv\": '\n",
       "                              '\"python_env.yaml\"}}, \"xgboost\": {\"xgb_version\": '\n",
       "                              '\"1.7.5\", \"data\": \"model.xgb\", \"model_class\": '\n",
       "                              '\"xgboost.core.Booster\", \"model_format\": \"xgb\", '\n",
       "                              '\"code\": null}}, \"model_uuid\": '\n",
       "                              '\"651f17fc383f440a90e41cf1bae5ab17\", '\n",
       "                              '\"mlflow_version\": \"2.3.2\"}]',\n",
       "  'mlflow.runName': 'sincere-duck-787',\n",
       "  'mlflow.source.git.commit': '1bd40efd14a4868739e36b97d11b77b5002c27a9',\n",
       "  'mlflow.source.name': '/Users/tdafonseca/Desktop/Github/learning/deploy_machine_learning_model/.venv/lib/python3.9/site-packages/ipykernel_launcher.py',\n",
       "  'mlflow.source.type': 'LOCAL',\n",
       "  'mlflow.user': 'tdafonseca'}>, info=<RunInfo: artifact_uri='/Users/tdafonseca/Desktop/Github/learning/deploy_machine_learning_model/02-experiment-tracking/mlruns/2/426977b423c448afa04ccd63f1f850ac/artifacts', end_time=1686260786083, experiment_id='2', lifecycle_stage='active', run_id='426977b423c448afa04ccd63f1f850ac', run_name='sincere-duck-787', run_uuid='426977b423c448afa04ccd63f1f850ac', start_time=1686260754221, status='FINISHED', user_id='tdafonseca'>>,\n",
       " <Run: data=<RunData: metrics={'rmse': 5.110087914942558}, params={'learning_rate': '0.1186097146922628',\n",
       "  'max_depth': '10',\n",
       "  'min_child_weight': '1.2670591294263422',\n",
       "  'objective': 'reg:linear',\n",
       "  'reg_alpha': '0.2726478524166285',\n",
       "  'reg_lambda': '0.007451987452974171',\n",
       "  'seed': '42'}, tags={'mlflow.runName': 'upbeat-sponge-212',\n",
       "  'mlflow.source.git.commit': '3a4262773cb15046f69eb352864aee3409bede85',\n",
       "  'mlflow.source.name': '/Users/tdafonseca/Desktop/Github/learning/deploy_machine_learning_model/.venv/lib/python3.9/site-packages/ipykernel_launcher.py',\n",
       "  'mlflow.source.type': 'LOCAL',\n",
       "  'mlflow.user': 'tdafonseca',\n",
       "  'model': 'xgboost'}>, info=<RunInfo: artifact_uri='/Users/tdafonseca/Desktop/Github/learning/deploy_machine_learning_model/02-experiment-tracking/mlruns/2/dc3c3bc3ca7749ad99e9d03db90eae01/artifacts', end_time=1686246310879, experiment_id='2', lifecycle_stage='active', run_id='dc3c3bc3ca7749ad99e9d03db90eae01', run_name='upbeat-sponge-212', run_uuid='dc3c3bc3ca7749ad99e9d03db90eae01', start_time=1686246281207, status='FINISHED', user_id='tdafonseca'>>,\n",
       " <Run: data=<RunData: metrics={'rmse': 5.114604657712143}, params={'learning_rate': '0.29125802390936106',\n",
       "  'max_depth': '17',\n",
       "  'min_child_weight': '2.1500388057734168',\n",
       "  'objective': 'reg:linear',\n",
       "  'reg_alpha': '0.2962288185026874',\n",
       "  'reg_lambda': '0.3272057219065369',\n",
       "  'seed': '42'}, tags={'mlflow.runName': 'enchanting-rook-567',\n",
       "  'mlflow.source.git.commit': '3a4262773cb15046f69eb352864aee3409bede85',\n",
       "  'mlflow.source.name': '/Users/tdafonseca/Desktop/Github/learning/deploy_machine_learning_model/.venv/lib/python3.9/site-packages/ipykernel_launcher.py',\n",
       "  'mlflow.source.type': 'LOCAL',\n",
       "  'mlflow.user': 'tdafonseca',\n",
       "  'model': 'xgboost'}>, info=<RunInfo: artifact_uri='/Users/tdafonseca/Desktop/Github/learning/deploy_machine_learning_model/02-experiment-tracking/mlruns/2/6952790856ce48aea99502dd6bbee60f/artifacts', end_time=1686246515909, experiment_id='2', lifecycle_stage='active', run_id='6952790856ce48aea99502dd6bbee60f', run_name='enchanting-rook-567', run_uuid='6952790856ce48aea99502dd6bbee60f', start_time=1686246504532, status='FINISHED', user_id='tdafonseca'>>,\n",
       " <Run: data=<RunData: metrics={'rmse': 5.120123774617779}, params={'learning_rate': '0.2944829706121943',\n",
       "  'max_depth': '18',\n",
       "  'min_child_weight': '1.8973047583393208',\n",
       "  'objective': 'reg:linear',\n",
       "  'reg_alpha': '0.290378801917351',\n",
       "  'reg_lambda': '0.3016418214065425',\n",
       "  'seed': '42'}, tags={'mlflow.runName': 'treasured-hound-564',\n",
       "  'mlflow.source.git.commit': '3a4262773cb15046f69eb352864aee3409bede85',\n",
       "  'mlflow.source.name': '/Users/tdafonseca/Desktop/Github/learning/deploy_machine_learning_model/.venv/lib/python3.9/site-packages/ipykernel_launcher.py',\n",
       "  'mlflow.source.type': 'LOCAL',\n",
       "  'mlflow.user': 'tdafonseca',\n",
       "  'model': 'xgboost'}>, info=<RunInfo: artifact_uri='/Users/tdafonseca/Desktop/Github/learning/deploy_machine_learning_model/02-experiment-tracking/mlruns/2/6da748baa6324412ab637f57fab15772/artifacts', end_time=1686246527530, experiment_id='2', lifecycle_stage='active', run_id='6da748baa6324412ab637f57fab15772', run_name='treasured-hound-564', run_uuid='6da748baa6324412ab637f57fab15772', start_time=1686246515934, status='FINISHED', user_id='tdafonseca'>>]"
      ]
     },
     "execution_count": 4,
     "metadata": {},
     "output_type": "execute_result"
    }
   ],
   "source": [
    "from mlflow.entities import ViewType\n",
    "\n",
    "runs = client.search_runs(\n",
    "    experiment_ids='2',\n",
    "    filter_string=\"metrics.rmse < 5.6\",\n",
    "    run_view_type=ViewType.ACTIVE_ONLY,\n",
    "    max_results=5,\n",
    "    order_by=[\"metrics.rmse ASC\"]\n",
    ")\n",
    "runs"
   ]
  },
  {
   "cell_type": "code",
   "execution_count": 5,
   "metadata": {},
   "outputs": [
    {
     "name": "stdout",
     "output_type": "stream",
     "text": [
      "run id: 53e9be922bb74db4b39cd469c3a882f8, rmse: 5.1101\n",
      "run id: 426977b423c448afa04ccd63f1f850ac, rmse: 5.1101\n",
      "run id: dc3c3bc3ca7749ad99e9d03db90eae01, rmse: 5.1101\n",
      "run id: 6952790856ce48aea99502dd6bbee60f, rmse: 5.1146\n",
      "run id: 6da748baa6324412ab637f57fab15772, rmse: 5.1201\n"
     ]
    }
   ],
   "source": [
    "for run in runs:\n",
    "    print(f\"run id: {run.info.run_id}, rmse: {run.data.metrics['rmse']:.4f}\")"
   ]
  },
  {
   "attachments": {},
   "cell_type": "markdown",
   "metadata": {},
   "source": [
    "### promote models to model registry\n"
   ]
  },
  {
   "cell_type": "code",
   "execution_count": 6,
   "metadata": {},
   "outputs": [],
   "source": [
    "import mlflow\n",
    "\n",
    "mlflow.set_registry_uri(MLFLOW_TRACKING_URI)"
   ]
  },
  {
   "cell_type": "code",
   "execution_count": 13,
   "metadata": {},
   "outputs": [
    {
     "name": "stderr",
     "output_type": "stream",
     "text": [
      "Registered model 'nyc-taxi-regressor' already exists. Creating a new version of this model...\n"
     ]
    },
    {
     "ename": "AttributeError",
     "evalue": "'bool' object has no attribute 'decode'",
     "output_type": "error",
     "traceback": [
      "\u001b[0;31m---------------------------------------------------------------------------\u001b[0m",
      "\u001b[0;31mAttributeError\u001b[0m                            Traceback (most recent call last)",
      "Cell \u001b[0;32mIn[13], line 5\u001b[0m\n\u001b[1;32m      1\u001b[0m run_id \u001b[39m=\u001b[39m \u001b[39m\"\u001b[39m\u001b[39m53e9be922bb74db4b39cd469c3a882f8\u001b[39m\u001b[39m\"\u001b[39m\n\u001b[1;32m      2\u001b[0m model_uri \u001b[39m=\u001b[39m \u001b[39mf\u001b[39m\u001b[39m\"\u001b[39m\u001b[39mruns:/\u001b[39m\u001b[39m{\u001b[39;00mrun_id\u001b[39m}\u001b[39;00m\u001b[39m/models\u001b[39m\u001b[39m\"\u001b[39m\n\u001b[0;32m----> 5\u001b[0m mlflow\u001b[39m.\u001b[39;49mregister_model(model_uri\u001b[39m==\u001b[39;49mmodel_uri, name\u001b[39m=\u001b[39;49m\u001b[39m'\u001b[39;49m\u001b[39mnyc-taxi-regressor\u001b[39;49m\u001b[39m'\u001b[39;49m)\n",
      "File \u001b[0;32m~/Desktop/Github/learning/deploy_machine_learning_model/.venv/lib/python3.9/site-packages/mlflow/tracking/_model_registry/fluent.py:89\u001b[0m, in \u001b[0;36mregister_model\u001b[0;34m(model_uri, name, await_registration_for, tags)\u001b[0m\n\u001b[1;32m     86\u001b[0m     \u001b[39melse\u001b[39;00m:\n\u001b[1;32m     87\u001b[0m         \u001b[39mraise\u001b[39;00m e\n\u001b[0;32m---> 89\u001b[0m \u001b[39mif\u001b[39;00m RunsArtifactRepository\u001b[39m.\u001b[39;49mis_runs_uri(model_uri):\n\u001b[1;32m     90\u001b[0m     source \u001b[39m=\u001b[39m RunsArtifactRepository\u001b[39m.\u001b[39mget_underlying_uri(model_uri)\n\u001b[1;32m     91\u001b[0m     (run_id, _) \u001b[39m=\u001b[39m RunsArtifactRepository\u001b[39m.\u001b[39mparse_runs_uri(model_uri)\n",
      "File \u001b[0;32m~/Desktop/Github/learning/deploy_machine_learning_model/.venv/lib/python3.9/site-packages/mlflow/store/artifact/runs_artifact_repo.py:31\u001b[0m, in \u001b[0;36mRunsArtifactRepository.is_runs_uri\u001b[0;34m(uri)\u001b[0m\n\u001b[1;32m     29\u001b[0m \u001b[39m@staticmethod\u001b[39m\n\u001b[1;32m     30\u001b[0m \u001b[39mdef\u001b[39;00m \u001b[39mis_runs_uri\u001b[39m(uri):\n\u001b[0;32m---> 31\u001b[0m     \u001b[39mreturn\u001b[39;00m urllib\u001b[39m.\u001b[39;49mparse\u001b[39m.\u001b[39;49murlparse(uri)\u001b[39m.\u001b[39mscheme \u001b[39m==\u001b[39m \u001b[39m\"\u001b[39m\u001b[39mruns\u001b[39m\u001b[39m\"\u001b[39m\n",
      "File \u001b[0;32m/usr/local/Cellar/python@3.9/3.9.16/Frameworks/Python.framework/Versions/3.9/lib/python3.9/urllib/parse.py:392\u001b[0m, in \u001b[0;36murlparse\u001b[0;34m(url, scheme, allow_fragments)\u001b[0m\n\u001b[1;32m    372\u001b[0m \u001b[39mdef\u001b[39;00m \u001b[39murlparse\u001b[39m(url, scheme\u001b[39m=\u001b[39m\u001b[39m'\u001b[39m\u001b[39m'\u001b[39m, allow_fragments\u001b[39m=\u001b[39m\u001b[39mTrue\u001b[39;00m):\n\u001b[1;32m    373\u001b[0m \u001b[39m    \u001b[39m\u001b[39m\"\"\"Parse a URL into 6 components:\u001b[39;00m\n\u001b[1;32m    374\u001b[0m \u001b[39m    <scheme>://<netloc>/<path>;<params>?<query>#<fragment>\u001b[39;00m\n\u001b[1;32m    375\u001b[0m \n\u001b[0;32m   (...)\u001b[0m\n\u001b[1;32m    390\u001b[0m \u001b[39m    Note that % escapes are not expanded.\u001b[39;00m\n\u001b[1;32m    391\u001b[0m \u001b[39m    \"\"\"\u001b[39;00m\n\u001b[0;32m--> 392\u001b[0m     url, scheme, _coerce_result \u001b[39m=\u001b[39m _coerce_args(url, scheme)\n\u001b[1;32m    393\u001b[0m     splitresult \u001b[39m=\u001b[39m urlsplit(url, scheme, allow_fragments)\n\u001b[1;32m    394\u001b[0m     scheme, netloc, url, query, fragment \u001b[39m=\u001b[39m splitresult\n",
      "File \u001b[0;32m/usr/local/Cellar/python@3.9/3.9.16/Frameworks/Python.framework/Versions/3.9/lib/python3.9/urllib/parse.py:128\u001b[0m, in \u001b[0;36m_coerce_args\u001b[0;34m(*args)\u001b[0m\n\u001b[1;32m    126\u001b[0m \u001b[39mif\u001b[39;00m str_input:\n\u001b[1;32m    127\u001b[0m     \u001b[39mreturn\u001b[39;00m args \u001b[39m+\u001b[39m (_noop,)\n\u001b[0;32m--> 128\u001b[0m \u001b[39mreturn\u001b[39;00m _decode_args(args) \u001b[39m+\u001b[39m (_encode_result,)\n",
      "File \u001b[0;32m/usr/local/Cellar/python@3.9/3.9.16/Frameworks/Python.framework/Versions/3.9/lib/python3.9/urllib/parse.py:112\u001b[0m, in \u001b[0;36m_decode_args\u001b[0;34m(args, encoding, errors)\u001b[0m\n\u001b[1;32m    110\u001b[0m \u001b[39mdef\u001b[39;00m \u001b[39m_decode_args\u001b[39m(args, encoding\u001b[39m=\u001b[39m_implicit_encoding,\n\u001b[1;32m    111\u001b[0m                        errors\u001b[39m=\u001b[39m_implicit_errors):\n\u001b[0;32m--> 112\u001b[0m     \u001b[39mreturn\u001b[39;00m \u001b[39mtuple\u001b[39;49m(x\u001b[39m.\u001b[39;49mdecode(encoding, errors) \u001b[39mif\u001b[39;49;00m x \u001b[39melse\u001b[39;49;00m \u001b[39m'\u001b[39;49m\u001b[39m'\u001b[39;49m \u001b[39mfor\u001b[39;49;00m x \u001b[39min\u001b[39;49;00m args)\n",
      "File \u001b[0;32m/usr/local/Cellar/python@3.9/3.9.16/Frameworks/Python.framework/Versions/3.9/lib/python3.9/urllib/parse.py:112\u001b[0m, in \u001b[0;36m<genexpr>\u001b[0;34m(.0)\u001b[0m\n\u001b[1;32m    110\u001b[0m \u001b[39mdef\u001b[39;00m \u001b[39m_decode_args\u001b[39m(args, encoding\u001b[39m=\u001b[39m_implicit_encoding,\n\u001b[1;32m    111\u001b[0m                        errors\u001b[39m=\u001b[39m_implicit_errors):\n\u001b[0;32m--> 112\u001b[0m     \u001b[39mreturn\u001b[39;00m \u001b[39mtuple\u001b[39m(x\u001b[39m.\u001b[39;49mdecode(encoding, errors) \u001b[39mif\u001b[39;00m x \u001b[39melse\u001b[39;00m \u001b[39m'\u001b[39m\u001b[39m'\u001b[39m \u001b[39mfor\u001b[39;00m x \u001b[39min\u001b[39;00m args)\n",
      "\u001b[0;31mAttributeError\u001b[0m: 'bool' object has no attribute 'decode'"
     ]
    }
   ],
   "source": [
    "run_id = \"53e9be922bb74db4b39cd469c3a882f8\"\n",
    "model_uri = f\"runs:/{run_id}/models\"\n",
    "\n",
    "\n",
    "mlflow.register_model(model_uri==model_uri, name='nyc-taxi-regressor')"
   ]
  },
  {
   "cell_type": "code",
   "execution_count": 9,
   "metadata": {},
   "outputs": [
    {
     "data": {
      "text/plain": [
       "[<RegisteredModel: aliases={}, creation_timestamp=1686328401049, description='This is NYC taxi predictor for trip duration', last_updated_timestamp=1686333225472, latest_versions=[<ModelVersion: aliases=[], creation_timestamp=1686332186702, current_stage='Staging', description='The model version 3 was transitioned to Staging on 2023-06-09', last_updated_timestamp=1686333225472, name='nyc-taxi-regressor', run_id='53e9be922bb74db4b39cd469c3a882f8', run_link=None, source='/Users/tdafonseca/Desktop/Github/learning/deploy_machine_learning_model/02-experiment-tracking/mlruns/2/53e9be922bb74db4b39cd469c3a882f8/artifacts/model', status='READY', status_message=None, tags={}, user_id=None, version=3>], name='nyc-taxi-regressor', tags={}>]"
      ]
     },
     "execution_count": 9,
     "metadata": {},
     "output_type": "execute_result"
    }
   ],
   "source": [
    "# How to transition to staging\n",
    "\n",
    "client.search_registered_models()"
   ]
  },
  {
   "cell_type": "code",
   "execution_count": null,
   "metadata": {},
   "outputs": [],
   "source": []
  },
  {
   "cell_type": "code",
   "execution_count": 14,
   "metadata": {},
   "outputs": [
    {
     "name": "stdout",
     "output_type": "stream",
     "text": [
      "version: 3, stage: Staging\n"
     ]
    }
   ],
   "source": [
    "model_name = 'nyc-taxi-regressor'\n",
    "lastest_versions = client.get_latest_versions(name = model_name)\n",
    "\n",
    "for version in lastest_versions:\n",
    "    print(f\"version: {version.version}, stage: {version.current_stage}\")"
   ]
  },
  {
   "cell_type": "code",
   "execution_count": 15,
   "metadata": {},
   "outputs": [],
   "source": [
    "model_version = 3\n",
    "new_stage = \"Production\""
   ]
  },
  {
   "cell_type": "code",
   "execution_count": 16,
   "metadata": {},
   "outputs": [
    {
     "data": {
      "text/plain": [
       "<ModelVersion: aliases=[], creation_timestamp=1686332186702, current_stage='Production', description='The model version 3 was transitioned to Staging on 2023-06-09', last_updated_timestamp=1686588792648, name='nyc-taxi-regressor', run_id='53e9be922bb74db4b39cd469c3a882f8', run_link=None, source='/Users/tdafonseca/Desktop/Github/learning/deploy_machine_learning_model/02-experiment-tracking/mlruns/2/53e9be922bb74db4b39cd469c3a882f8/artifacts/model', status='READY', status_message=None, tags={}, user_id=None, version=3>"
      ]
     },
     "execution_count": 16,
     "metadata": {},
     "output_type": "execute_result"
    }
   ],
   "source": [
    "\n",
    "client.transition_model_version_stage(\n",
    "    name=model_name,\n",
    "    version=model_version,\n",
    "    stage=new_stage,\n",
    "    archive_existing_versions=False\n",
    ")"
   ]
  },
  {
   "cell_type": "code",
   "execution_count": 17,
   "metadata": {},
   "outputs": [
    {
     "data": {
      "text/plain": [
       "<ModelVersion: aliases=[], creation_timestamp=1686332186702, current_stage='Production', description='The model version 3 was transitioned to Production on 2023-06-12', last_updated_timestamp=1686588861645, name='nyc-taxi-regressor', run_id='53e9be922bb74db4b39cd469c3a882f8', run_link=None, source='/Users/tdafonseca/Desktop/Github/learning/deploy_machine_learning_model/02-experiment-tracking/mlruns/2/53e9be922bb74db4b39cd469c3a882f8/artifacts/model', status='READY', status_message=None, tags={}, user_id=None, version=3>"
      ]
     },
     "execution_count": 17,
     "metadata": {},
     "output_type": "execute_result"
    }
   ],
   "source": [
    "from datetime import datetime\n",
    "\n",
    "date = datetime.today().date()\n",
    "client.update_model_version(\n",
    "    name=model_name,\n",
    "    version=model_version,\n",
    "    description=f\"The model version {model_version} was transitioned to {new_stage} on {date}\"\n",
    ")"
   ]
  },
  {
   "attachments": {},
   "cell_type": "markdown",
   "metadata": {},
   "source": [
    "### Promote the model to production"
   ]
  },
  {
   "cell_type": "code",
   "execution_count": 18,
   "metadata": {},
   "outputs": [],
   "source": [
    "from sklearn.metrics import mean_squared_error\n",
    "import pandas as pd"
   ]
  },
  {
   "cell_type": "code",
   "execution_count": 19,
   "metadata": {},
   "outputs": [],
   "source": [
    "def read_dataframe(filename):\n",
    "    \"\"\"read data\n",
    "    \"\"\"\n",
    "    df = pd.read_parquet(filename)\n",
    "\n",
    "    df.lpep_pickup_datetime = pd.to_datetime(df.lpep_pickup_datetime)\n",
    "    df.lpep_dropoff_datetime = pd.to_datetime(df.lpep_dropoff_datetime)\n",
    "\n",
    "    df['duration'] = df.lpep_dropoff_datetime - df.lpep_pickup_datetime\n",
    "    df.duration = df.duration.apply(lambda td: td.total_seconds()/60)\n",
    "\n",
    "    df = df[(df.duration >= 1) & (df.duration <= 60)]\n",
    "\n",
    "    categorical = ['PULocationID','DOLocationID']\n",
    "    df[categorical] = df[categorical].astype(str)\n",
    "\n",
    "    return df\n",
    "\n",
    "def preprocess(df, dv):\n",
    "    \"\"\" data wrangling\n",
    "    \"\"\"\n",
    "    df['PU_DO'] = df['PULocationID'] + '_' + df['DOLocationID']\n",
    "    categorical = ['PU_DO']\n",
    "    numerical = ['trip_distance']\n",
    "    train_dicts = df[categorical + numerical].to_dict(orient='records')\n",
    "    return dv.transform(train_dicts)\n",
    "\n",
    "def test_model(name, stage, X_test, y_test):\n",
    "    \"\"\" test model with mlflow\n",
    "    \"\"\"\n",
    "    model = mlflow.pyfunc.load_model(f\"models:/{name}/{stage}\")\n",
    "    y_pred = model.predict(X_test)\n",
    "    return {\"rmse\": mean_squared_error(y_test, y_pred, squared=False)}\n",
    "    "
   ]
  },
  {
   "cell_type": "code",
   "execution_count": 20,
   "metadata": {},
   "outputs": [],
   "source": [
    "df = read_dataframe('../data/green_tripdata_2023-03.parquet')"
   ]
  },
  {
   "cell_type": "code",
   "execution_count": 21,
   "metadata": {},
   "outputs": [
    {
     "name": "stderr",
     "output_type": "stream",
     "text": [
      "/var/folders/y1/h3rdxlrj2qvdwwjh6r3b721m0000gp/T/ipykernel_56918/2852634549.py:1: FutureWarning: ``mlflow.tracking.client.MlflowClient.download_artifacts`` is deprecated since 2.0. This method will be removed in a future release. Use ``mlflow.artifacts.download_artifacts`` instead.\n",
      "  client.download_artifacts(run_id=run_id, path='preprocessor', dst_path='.')\n"
     ]
    },
    {
     "data": {
      "text/plain": [
       "'/Users/tdafonseca/Desktop/Github/learning/deploy_machine_learning_model/02-experiment-tracking/preprocessor'"
      ]
     },
     "execution_count": 21,
     "metadata": {},
     "output_type": "execute_result"
    }
   ],
   "source": [
    "client.download_artifacts(run_id=run_id, path='preprocessor', dst_path='.')"
   ]
  },
  {
   "cell_type": "code",
   "execution_count": 22,
   "metadata": {},
   "outputs": [],
   "source": [
    "import pickle\n",
    "\n",
    "with open('preprocessor/preprocessor.b', 'rb') as f_in:\n",
    "    dv = pickle.load(f_in)\n",
    "    "
   ]
  },
  {
   "cell_type": "code",
   "execution_count": 23,
   "metadata": {},
   "outputs": [],
   "source": [
    "X_test = preprocess(df, dv)"
   ]
  },
  {
   "cell_type": "code",
   "execution_count": 24,
   "metadata": {},
   "outputs": [],
   "source": [
    "target = 'duration'\n",
    "y_test = df[target].values"
   ]
  },
  {
   "cell_type": "code",
   "execution_count": 25,
   "metadata": {},
   "outputs": [
    {
     "name": "stdout",
     "output_type": "stream",
     "text": [
      "CPU times: user 2 µs, sys: 1e+03 ns, total: 3 µs\n",
      "Wall time: 5.01 µs\n"
     ]
    },
    {
     "name": "stderr",
     "output_type": "stream",
     "text": [
      "2023/06/12 18:59:37 WARNING mlflow.pyfunc: Detected one or more mismatches between the model's dependencies and the current Python environment:\n",
      " - mlflow (current: 2.3.2, required: mlflow==2.3)\n",
      "To fix the mismatches, call `mlflow.pyfunc.get_model_dependencies(model_uri)` to fetch the model's environment and install dependencies using the resulting environment file.\n"
     ]
    },
    {
     "name": "stdout",
     "output_type": "stream",
     "text": [
      "[18:59:38] WARNING: /Users/runner/work/xgboost/xgboost/python-package/build/temp.macosx-10.9-x86_64-cpython-38/xgboost/src/objective/regression_obj.cu:213: reg:linear is now deprecated in favor of reg:squarederror.\n"
     ]
    },
    {
     "data": {
      "text/plain": [
       "{'rmse': 5.355773894096684}"
      ]
     },
     "execution_count": 25,
     "metadata": {},
     "output_type": "execute_result"
    }
   ],
   "source": [
    "%time\n",
    "test_model(name=model_name, stage=\"Staging\", X_test=X_test, y_test=y_test)"
   ]
  },
  {
   "cell_type": "code",
   "execution_count": 26,
   "metadata": {},
   "outputs": [
    {
     "name": "stderr",
     "output_type": "stream",
     "text": [
      "2023/06/12 19:00:14 WARNING mlflow.pyfunc: Detected one or more mismatches between the model's dependencies and the current Python environment:\n",
      " - mlflow (current: 2.3.2, required: mlflow==2.3)\n",
      "To fix the mismatches, call `mlflow.pyfunc.get_model_dependencies(model_uri)` to fetch the model's environment and install dependencies using the resulting environment file.\n"
     ]
    },
    {
     "name": "stdout",
     "output_type": "stream",
     "text": [
      "CPU times: user 2 µs, sys: 0 ns, total: 2 µs\n",
      "Wall time: 5.25 µs\n",
      "[19:00:14] WARNING: /Users/runner/work/xgboost/xgboost/python-package/build/temp.macosx-10.9-x86_64-cpython-38/xgboost/src/objective/regression_obj.cu:213: reg:linear is now deprecated in favor of reg:squarederror.\n"
     ]
    },
    {
     "data": {
      "text/plain": [
       "{'rmse': 5.355773894096684}"
      ]
     },
     "execution_count": 26,
     "metadata": {},
     "output_type": "execute_result"
    }
   ],
   "source": [
    "\n",
    "%time\n",
    "test_model(name=model_name, stage=\"Staging\", X_test=X_test, y_test=y_test)"
   ]
  },
  {
   "cell_type": "code",
   "execution_count": null,
   "metadata": {},
   "outputs": [],
   "source": []
  },
  {
   "cell_type": "code",
   "execution_count": null,
   "metadata": {},
   "outputs": [],
   "source": []
  },
  {
   "cell_type": "code",
   "execution_count": null,
   "metadata": {},
   "outputs": [],
   "source": []
  },
  {
   "cell_type": "code",
   "execution_count": null,
   "metadata": {},
   "outputs": [],
   "source": []
  },
  {
   "cell_type": "code",
   "execution_count": null,
   "metadata": {},
   "outputs": [],
   "source": []
  }
 ],
 "metadata": {
  "kernelspec": {
   "display_name": "tomas_ml_kernel",
   "language": "python",
   "name": "tomas_ml_kernel"
  },
  "language_info": {
   "codemirror_mode": {
    "name": "ipython",
    "version": 3
   },
   "file_extension": ".py",
   "mimetype": "text/x-python",
   "name": "python",
   "nbconvert_exporter": "python",
   "pygments_lexer": "ipython3",
   "version": "3.9.16"
  }
 },
 "nbformat": 4,
 "nbformat_minor": 2
}
