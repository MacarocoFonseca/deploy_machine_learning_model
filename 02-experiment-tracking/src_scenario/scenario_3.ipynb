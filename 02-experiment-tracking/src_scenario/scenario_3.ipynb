{
 "cells": [
  {
   "attachments": {},
   "cell_type": "markdown",
   "metadata": {},
   "source": [
    "# Multiple data scientists wroking on multiple ML models\n",
    "MLflow setup:\n",
    "- Tracking server: yes, remote server (EC2)\n",
    "- Backend store: postgresql database\n",
    "- Artifacts store: s3 bucket\n",
    "\n",
    "The experiments can be explored by accessing the remote server.\\\n",
    "The example uses AWS to host a remote server. In order to run the example you'll need an AWS account."
   ]
  },
  {
   "cell_type": "code",
   "execution_count": 2,
   "metadata": {},
   "outputs": [],
   "source": [
    "import mlflow\n",
    "import os\n",
    "\n",
    "os.environ[\"AWS_PROFILE\"] = \"\"\n",
    "\n",
    "\n",
    "# Tracking server\n",
    "TRACKING_SERVER_HOST = \"ec2-54-196-146-14.compute-1.amazonaws.com\"\n",
    "mlflow.set_tracking_uri(\"http://{TRACKING_SERVER_HOST}:5000\")"
   ]
  },
  {
   "cell_type": "code",
   "execution_count": 3,
   "metadata": {},
   "outputs": [
    {
     "name": "stdout",
     "output_type": "stream",
     "text": [
      "Tracking URI: 'http://127.0.0.1:5000'\n"
     ]
    }
   ],
   "source": [
    "print(f\"Tracking URI: '{mlflow.get_tracking_uri()}'\")"
   ]
  },
  {
   "cell_type": "code",
   "execution_count": 5,
   "metadata": {},
   "outputs": [
    {
     "data": {
      "text/plain": [
       "[<Experiment: artifact_location='/Users/tdafonseca/Desktop/Github/learning/deploy_machine_learning_model/02-experiment-tracking/src_scenario/artifacts_local/0', creation_time=1686595336355, experiment_id='0', last_update_time=1686595336355, lifecycle_stage='active', name='Default', tags={}>]"
      ]
     },
     "execution_count": 5,
     "metadata": {},
     "output_type": "execute_result"
    }
   ],
   "source": [
    "mlflow.search_experiments()\n",
    "# by default is 'Default'"
   ]
  },
  {
   "attachments": {},
   "cell_type": "markdown",
   "metadata": {},
   "source": [
    "### logistic regression model"
   ]
  },
  {
   "cell_type": "code",
   "execution_count": 6,
   "metadata": {},
   "outputs": [
    {
     "name": "stderr",
     "output_type": "stream",
     "text": [
      "2023/06/12 20:45:47 INFO mlflow.tracking.fluent: Experiment with name 'my-experiment-1' does not exist. Creating a new experiment.\n"
     ]
    },
    {
     "name": "stdout",
     "output_type": "stream",
     "text": [
      "Default artifacts URI: '/Users/tdafonseca/Desktop/Github/learning/deploy_machine_learning_model/02-experiment-tracking/src_scenario/artifacts_local/1/7705ec160996449f9bee9d131d432703/artifacts'\n"
     ]
    },
    {
     "name": "stderr",
     "output_type": "stream",
     "text": [
      "/Users/tdafonseca/Desktop/Github/learning/deploy_machine_learning_model/.venv/lib/python3.9/site-packages/_distutils_hack/__init__.py:33: UserWarning: Setuptools is replacing distutils.\n",
      "  warnings.warn(\"Setuptools is replacing distutils.\")\n"
     ]
    }
   ],
   "source": [
    "from sklearn.linear_model import LogisticRegression\n",
    "from sklearn.datasets import load_iris\n",
    "from sklearn.metrics import accuracy_score\n",
    "\n",
    "mlflow.set_experiment(\"my-experiment-1\")\n",
    "\n",
    "with mlflow.start_run():\n",
    "    X, y = load_iris(return_X_y=True)\n",
    "\n",
    "    params = {\"C\": 0.1, \"random_state\": 42}\n",
    "    mlflow.log_params(params)\n",
    "\n",
    "    lr = LogisticRegression(**params).fit(X,y)\n",
    "    y_pred = lr.predict(X) # predict on then same data as an example\n",
    "    mlflow.log_metric('accuracy', accuracy_score(y, y_pred))\n",
    "\n",
    "    mlflow.sklearn.log_model(lr, artifact_path='models')\n",
    "    print(f\"Default artifacts URI: '{mlflow.get_artifact_uri()}'\") # Where are the artifacts beeing stored\n"
   ]
  },
  {
   "attachments": {},
   "cell_type": "markdown",
   "metadata": {},
   "source": [
    "At this point the metadata about the artifacts is being stored in the backend server"
   ]
  },
  {
   "cell_type": "code",
   "execution_count": 19,
   "metadata": {},
   "outputs": [
    {
     "data": {
      "text/plain": [
       "[<Experiment: artifact_location='/Users/tdafonseca/Desktop/Github/learning/deploy_machine_learning_model/02-experiment-tracking/src_scenario/artifacts_local/1', creation_time=1686595547689, experiment_id='1', last_update_time=1686595547689, lifecycle_stage='active', name='my-experiment-1', tags={}>,\n",
       " <Experiment: artifact_location='/Users/tdafonseca/Desktop/Github/learning/deploy_machine_learning_model/02-experiment-tracking/src_scenario/artifacts_local/0', creation_time=1686595336355, experiment_id='0', last_update_time=1686595336355, lifecycle_stage='active', name='Default', tags={}>]"
      ]
     },
     "execution_count": 19,
     "metadata": {},
     "output_type": "execute_result"
    }
   ],
   "source": [
    "mlflow.search_experiments()"
   ]
  },
  {
   "attachments": {},
   "cell_type": "markdown",
   "metadata": {},
   "source": []
  },
  {
   "attachments": {},
   "cell_type": "markdown",
   "metadata": {},
   "source": [
    "## Interacting with model registry\n"
   ]
  },
  {
   "cell_type": "code",
   "execution_count": 8,
   "metadata": {},
   "outputs": [],
   "source": [
    "from mlflow.tracking import MlflowClient\n",
    "\n",
    "client = MlflowClient('http://127.0.0.1:5000')"
   ]
  },
  {
   "cell_type": "code",
   "execution_count": 9,
   "metadata": {},
   "outputs": [
    {
     "data": {
      "text/plain": [
       "[]"
      ]
     },
     "execution_count": 9,
     "metadata": {},
     "output_type": "execute_result"
    }
   ],
   "source": [
    "client.search_registered_models()"
   ]
  },
  {
   "cell_type": "code",
   "execution_count": 17,
   "metadata": {},
   "outputs": [
    {
     "data": {
      "text/plain": [
       "'1'"
      ]
     },
     "execution_count": 17,
     "metadata": {},
     "output_type": "execute_result"
    }
   ],
   "source": [
    "client.get_experiment_by_name(\"my-experiment-1\").experiment_id"
   ]
  },
  {
   "cell_type": "code",
   "execution_count": 22,
   "metadata": {},
   "outputs": [
    {
     "name": "stderr",
     "output_type": "stream",
     "text": [
      "Registered model 'iris_classifier' already exists. Creating a new version of this model...\n",
      "2023/06/12 21:22:50 INFO mlflow.tracking._model_registry.client: Waiting up to 300 seconds for model version to finish creation. Model name: iris_classifier, version 2\n",
      "Created version '2' of model 'iris_classifier'.\n"
     ]
    },
    {
     "data": {
      "text/plain": [
       "<ModelVersion: aliases=[], creation_timestamp=1686597770222, current_stage='None', description='', last_updated_timestamp=1686597770222, name='iris_classifier', run_id='7705ec160996449f9bee9d131d432703', run_link='', source='/Users/tdafonseca/Desktop/Github/learning/deploy_machine_learning_model/02-experiment-tracking/src_scenario/artifacts_local/1/7705ec160996449f9bee9d131d432703/artifacts/models', status='READY', status_message='', tags={}, user_id='', version='2'>"
      ]
     },
     "execution_count": 22,
     "metadata": {},
     "output_type": "execute_result"
    }
   ],
   "source": [
    "run_id = '7705ec160996449f9bee9d131d432703'\n",
    "\n",
    "mlflow.register_model(\n",
    "    model_uri=f'runs:/{run_id}/models',\n",
    "    name='iris_classifier'\n",
    ")\n",
    "\n"
   ]
  },
  {
   "cell_type": "code",
   "execution_count": 13,
   "metadata": {},
   "outputs": [],
   "source": [
    "\n",
    "    "
   ]
  },
  {
   "cell_type": "code",
   "execution_count": null,
   "metadata": {},
   "outputs": [],
   "source": []
  },
  {
   "cell_type": "code",
   "execution_count": null,
   "metadata": {},
   "outputs": [],
   "source": []
  },
  {
   "cell_type": "code",
   "execution_count": null,
   "metadata": {},
   "outputs": [],
   "source": []
  },
  {
   "cell_type": "code",
   "execution_count": null,
   "metadata": {},
   "outputs": [],
   "source": []
  },
  {
   "cell_type": "code",
   "execution_count": null,
   "metadata": {},
   "outputs": [],
   "source": []
  }
 ],
 "metadata": {
  "kernelspec": {
   "display_name": "tomas_ml_kernel",
   "language": "python",
   "name": "tomas_ml_kernel"
  },
  "language_info": {
   "codemirror_mode": {
    "name": "ipython",
    "version": 3
   },
   "file_extension": ".py",
   "mimetype": "text/x-python",
   "name": "python",
   "nbconvert_exporter": "python",
   "pygments_lexer": "ipython3",
   "version": "3.9.16"
  },
  "orig_nbformat": 4
 },
 "nbformat": 4,
 "nbformat_minor": 2
}
